{
 "cells": [
  {
   "cell_type": "code",
   "execution_count": 4,
   "id": "4cf99c15",
   "metadata": {},
   "outputs": [
    {
     "name": "stdout",
     "output_type": "stream",
     "text": [
      "________________________________________________________________________________\n",
      "\n",
      "\n",
      "________________________________________________________________________________\n",
      "\n",
      "\n"
     ]
    }
   ],
   "source": [
    "import import_ipynb\n",
    "import pprint\n",
    "import CA as CA\n",
    "import socket\n",
    "import pickle\n",
    "serv = socket.socket(socket.AF_INET, socket.SOCK_STREAM)\n",
    "serv.bind(('127.0.0.7', 8080))\n",
    "serv.listen(5)\n",
    "a=0\n",
    "b =0\n",
    "while a<2:\n",
    "  b= 0\n",
    "  conn, addr = serv.accept()\n",
    "  from_client = ''\n",
    "  while b==0:\n",
    "    data = conn.recv(4096)\n",
    "    if not data: break\n",
    "#     from_client = data.decode('utf8')\n",
    "    from_client = pickle.loads(data)\n",
    "    if from_client['req'] == 1: # for requesting CA's Public Key\n",
    "        data = pickle.dumps(CA.CAPubKey)\n",
    "        print(\"CA PublicKey \\t: \\t\")\n",
    "        pprint.pprint(data)\n",
    "        print(\"\\n\")\n",
    "        conn.send(data)\n",
    "        data = conn.recv(4096)\n",
    "        from_client = pickle.loads(data)\n",
    "        print(\"Received Request \\t: \\t \" )\n",
    "        pprint.pprint(from_client)\n",
    "        print(\"\\n\")\n",
    "    if from_client['req'] == 2: # for certificate generation and transmission\n",
    "        data = CA.certificate(from_client['subName'], from_client['pubKey'], from_client['role']).transmitCertificate()\n",
    "        print(\"Response \\t: \\t \" )\n",
    "        pprint.pprint(data)\n",
    "        print(\"\\n\")\n",
    "        data = pickle.dumps(data)\n",
    "#         print(data)\n",
    "        conn.send(data)\n",
    "    b=1\n",
    "  a = a +1  \n",
    "  conn.close()\n",
    "  print(\"________________________________________________________________________________\")\n",
    "  print('\\n')"
   ]
  },
  {
   "cell_type": "code",
   "execution_count": 2,
   "id": "41cfd5f3",
   "metadata": {},
   "outputs": [
    {
     "name": "stdout",
     "output_type": "stream",
     "text": [
      "PublicKey(7332507215155691041040208379760366966093696337639766876185932199372040676595440685845127266729783360078201807705808121918608429032239236014736702256408201, 65537)\n",
      "\n"
     ]
    }
   ],
   "source": [
    "print(CA.CAPubKey)\n",
    "print()"
   ]
  },
  {
   "cell_type": "code",
   "execution_count": null,
   "id": "063858b0",
   "metadata": {},
   "outputs": [],
   "source": [
    "# class certificate :\n",
    "#     version_No = ''\n",
    "#     serial_No = 0\n",
    "#     signatureAlgorithmID= ''\n",
    "#     issuerName = ''\n",
    "#     periodOfValidityStart = ''\n",
    "#     periodOfValidityStop = ''\n",
    "#     subjectName=''\n",
    "#     subjectPublicKey = ''\n",
    "#     extension=0\n",
    "#     signature= ''\n",
    "#     def dict2cert(self,certData):\n",
    "#         self.version_No = certData[\"v_no\"]\n",
    "#         self.serial_No = certData[\"s_no\"]\n",
    "#         self.signatureAlgorithmID = certData[\"sa_id\"]\n",
    "#         self.issuerName = certData[\"i_n\"]\n",
    "#         self.periodOfValidityStart= certData[\"v_start\"]\n",
    "#         self.periodOfValidityStop = certData[\"v_stop\"]\n",
    "#         self.subjectName = certData[\"s_n\"]\n",
    "#         self.subjectPublicKey = certData[\"s_PK\"]\n",
    "#         self.extension = certData[\"ext\"]\n",
    "#         self.signature = certData[\"sig\"]"
   ]
  },
  {
   "cell_type": "code",
   "execution_count": 3,
   "id": "a77c0437",
   "metadata": {},
   "outputs": [
    {
     "name": "stdout",
     "output_type": "stream",
     "text": [
      "101\n"
     ]
    }
   ],
   "source": [
    "# import socket\n",
    "# import pickle\n",
    "# serv = socket.socket(socket.AF_INET, socket.SOCK_STREAM)\n",
    "# serv.bind(('0.0.0.0', 8080))\n",
    "# serv.listen(5)\n",
    "# a=0\n",
    "# b =0\n",
    "# while a==0:\n",
    "#   conn, addr = serv.accept()\n",
    "#   from_client = ''\n",
    "#   step = 0\n",
    "#   while b==0:\n",
    "#     data = conn.recv(4096)\n",
    "#     if not data: break\n",
    "# #     from_client = data.decode('utf8')\n",
    "#     from_client = pickle.loads(data)\n",
    "#     print (from_client['s_no'])\n",
    "#     a,b=1,1\n",
    "    \n",
    "#   conn.close()"
   ]
  },
  {
   "cell_type": "code",
   "execution_count": null,
   "id": "f71f5d8f",
   "metadata": {},
   "outputs": [],
   "source": []
  },
  {
   "cell_type": "code",
   "execution_count": null,
   "id": "8a80fec2",
   "metadata": {},
   "outputs": [],
   "source": []
  }
 ],
 "metadata": {
  "kernelspec": {
   "display_name": "Python 3 (ipykernel)",
   "language": "python",
   "name": "python3"
  },
  "language_info": {
   "codemirror_mode": {
    "name": "ipython",
    "version": 3
   },
   "file_extension": ".py",
   "mimetype": "text/x-python",
   "name": "python",
   "nbconvert_exporter": "python",
   "pygments_lexer": "ipython3",
   "version": "3.9.7"
  }
 },
 "nbformat": 4,
 "nbformat_minor": 5
}
