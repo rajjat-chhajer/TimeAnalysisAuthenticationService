{
 "cells": [
  {
   "cell_type": "code",
   "execution_count": 1,
   "id": "0345b66a",
   "metadata": {},
   "outputs": [
    {
     "name": "stdout",
     "output_type": "stream",
     "text": [
      "importing Jupyter notebook from CA.ipynb\n"
     ]
    }
   ],
   "source": [
    "import import_ipynb\n",
    "import CA\n",
    "import pprint\n",
    "CAPubKeyC = []\n",
    "reqFrame = {}\n",
    "clientName = 'Tester'\n",
    "role = 2\n",
    "ClientCert = []\n",
    "RecCert = []\n",
    "clientPubKey = []\n",
    "clientPriKey = []"
   ]
  },
  {
   "cell_type": "code",
   "execution_count": 2,
   "id": "9ae6640c",
   "metadata": {},
   "outputs": [
    {
     "name": "stdout",
     "output_type": "stream",
     "text": [
      "Requesting for CA's PublicKey \t:\t\n",
      "b'\\x80\\x04\\x95\\x0c\\x00\\x00\\x00\\x00\\x00\\x00\\x00}\\x94\\x8c\\x03req\\x94K\\x01s.'\n",
      "\n",
      "\n",
      "CA's PublicKey \t:\t\n",
      "(b'\\x80\\x04\\x95g\\x00\\x00\\x00\\x00\\x00\\x00\\x00\\x8c\\x07rsa.key\\x94\\x8c\\tPublicKey'\n",
      " b'\\x94\\x93\\x94)\\x81\\x94\\x8aA\\x89f\\xb7\\xee\\xd5\\x80{z.\\xf9\\xa9\\xd1\\xb8~\\xa1\\xad'\n",
      " b'\\xceh\\xd5\\x15>~0+$3\\xe6\\xb6\\xf6\\xfc\\xb0(c\\xf3\\t\\x8f\\xfbH\\x8a\\xd0x\\xae?/'\n",
      " b'\\xd40K\\xc0\\xf9U\\xd6e\\x8d,\\xee\\xbb\\xfeU\\xfe\\x85v\\x8c\\x00\\x8c\\x00J\\x01\\x00'\n",
      " b'\\x01\\x00\\x86\\x94b.')\n",
      "\n",
      "\n",
      "Request for Certificate Generation \t:\t\n",
      "(b'\\x80\\x04\\x95\\x98\\x00\\x00\\x00\\x00\\x00\\x00\\x00}\\x94(\\x8c\\x03req\\x94'\n",
      " b'K\\x02\\x8c\\x07subName\\x94\\x8c\\x06Tester\\x94\\x8c\\x04role\\x94K\\x02\\x8c\\x06pubK'\n",
      " b'ey\\x94\\x8c\\x07rsa.key\\x94\\x8c\\tPublicKey\\x94\\x93\\x94)\\x81\\x94\\x8aA'\n",
      " b'\\x157\\xb0\\xd0\\xbc\\x10\\x11lX\\x88\\x9f=7\\xe4\\xdaeP\\xdfWjz\\x9f\\x14\\xc7\\xfc\\xceww'\n",
      " b'\\x91\\x8c\\t={\\xd7\\x03P\\xde\\xab\\x1a\\x05\\xfb\\xbfy\\x80\\xc4M\\x14\\x81@\\x0b\\x9e#'\n",
      " b'\\x8eR\\xf9\\x91\\x10T\\x89\\x89\\xc7\\xedH\\x91\\x00J\\x01\\x00\\x01\\x00\\x86\\x94bu.')\n",
      "\n",
      "\n",
      "Generated Certificate \t:\t\n",
      "{'ext': 2,\n",
      " 'i_n': 'CA',\n",
      " 's_PK': PublicKey(7609186493687752823283671444617550189157270421972549239998952133267465610077640897512338562506846475010203075462742585528200904441052307483187506993706773, 65537),\n",
      " 's_n': 'Tester',\n",
      " 's_no': 101,\n",
      " 'sa_id': 'SHA-256',\n",
      " 'sig': b'\\x85\\xb1\\x95\\xa4S\\x98\\x9a\\xb2\\xee\\x9c\\x11l\\xb49\\x91s\\xe9\\x03>l'\n",
      "        b'I\\x1e\\xe4\\x1b7\\x84\\x1fU\\xf2\\xbd\\x9b\\xcc\\x0b\\x9a\\x9a0(\\xa5\\xd7\\x11'\n",
      "        b'\\xa50w\\xb1B\\x17\\xde3\\xf3\\xfd\\x0euq%d\\x97V\\xdd\\xaa%1\\x17J\\xb4',\n",
      " 'v_no': 'x.509',\n",
      " 'v_start': datetime.datetime(2024, 4, 4, 12, 14, 9, 760425),\n",
      " 'v_stop': datetime.datetime(2025, 4, 4, 12, 14, 9, 760425)}\n",
      "\n",
      "\n"
     ]
    }
   ],
   "source": [
    "def CertificateRoutine():\n",
    "    global ClientCert, clientPubKey, clientPriKey, CAPubKeyC, reqFrame, clientName, role\n",
    "    import socket\n",
    "    import pickle\n",
    "    client = socket.socket(socket.AF_INET, socket.SOCK_STREAM)\n",
    "    client.connect(('127.0.0.7', 8080))\n",
    "    global ClientCert\n",
    "    if CAPubKeyC == []:\n",
    "        reqFrame = {\"req\":1} # requesting for CA's PublicKey\n",
    "        data = pickle.dumps(reqFrame)\n",
    "        print(\"Requesting for CA's PublicKey \\t:\\t\")\n",
    "        pprint.pprint(data)\n",
    "        print('\\n')\n",
    "        client.send(data)\n",
    "        data = client.recv(4096)\n",
    "        CAPubKeyC = pickle.loads(data)\n",
    "        print(\"CA's PublicKey \\t:\\t\")\n",
    "        pprint.pprint(data)\n",
    "        print('\\n')\n",
    "    if ClientCert == []: #Generating Subject'S Public,Private Key pair\n",
    "        if clientPubKey == []:\n",
    "            clientPubKey , clientPriKey = CA.KeyGen()\n",
    "        reqFrame = {\"req\" : 2, \"subName\" : clientName, \"role\":role, \"pubKey\" : clientPubKey} #Request for certificate\n",
    "        data = pickle.dumps(reqFrame)\n",
    "        print(\"Request for Certificate Generation \\t:\\t\")\n",
    "        pprint.pprint(data)\n",
    "        print('\\n')\n",
    "        client.send(data)\n",
    "        data = client.recv(4096)\n",
    "        fromServer = pickle.loads(data)\n",
    "#         print(fromServer)\n",
    "        ClientCert = CA.certificate()\n",
    "        ClientCert.dict2cert(fromServer)\n",
    "        print(\"Generated Certificate \\t:\\t\")\n",
    "        pprint.pprint(ClientCert.transmitCertificate())\n",
    "        print('\\n')\n",
    "    client.close()\n",
    "CertificateRoutine()"
   ]
  },
  {
   "cell_type": "code",
   "execution_count": 277,
   "id": "6cb9eacd",
   "metadata": {},
   "outputs": [],
   "source": [
    "\n",
    "import numpy as np\n",
    "def RandomGenerator():\n",
    "    random_bytes = str(np.random.bytes(10).hex())\n",
    "    seed = random_bytes\n",
    "#     for i in range(0,2):\n",
    "#         random_bytes = str(np.random.bytes(1).hex())\n",
    "#         seed = seed +' '+ random_bytes\n",
    "    return seed.upper()\n",
    "def Req(data):\n",
    "    global ClientCert, clientPriKey\n",
    "    if data[\"sFn\"] == '08':\n",
    "        if data['Cnf'] == '01':\n",
    "            print(\"Authentication using Challenge Response Supported\")\n",
    "        elif data['Cnf'] == '02':\n",
    "            print(\"Authentication using PKI Certificate Exchange Supported \")\n",
    "            from_client = {}\n",
    "            from_client[\"Fn\"] = '29'\n",
    "#             sf = int(input(\"Enter Requested subFunction \\n 1 : verifyCertificateUnidirectionally \\n 2: verifyCertificateBidirectionally \"))\n",
    "#             print(sf)\n",
    "            sf = 2\n",
    "            if sf == 2:\n",
    "                from_client[\"sFn\"] = \"02\" \n",
    "            else:\n",
    "                from_client[\"sFn\"] = \"01\"\n",
    "            print(from_client[\"sFn\"])\n",
    "            from_client[\"CC\"] = '00'\n",
    "            from_client[\"Cert\"] = ClientCert\n",
    "            if from_client[\"sFn\"] =='02':\n",
    "                from_client[\"CCli\"] = RandomGenerator()\n",
    "            return from_client\n",
    "    elif data[\"sFn\"] == '01':\n",
    "        print(\"Unidirectional Authetication\")\n",
    "        temp = CA.sign(data[\"CS\"],clientPriKey)\n",
    "        from_client = {}\n",
    "        from_client[\"Fn\"] = '29'\n",
    "        from_client[\"sFn\"] = '03'\n",
    "        from_client[\"POO\"] = temp\n",
    "        return from_client\n",
    "    elif data[\"sFn\"] == '02':\n",
    "        print(\"Bidirectional Authentication\")\n",
    "        temp = CA.sign(data[\"CS\"],clientPriKey)\n",
    "        from_client = {}\n",
    "        from_client[\"Fn\"] = '29'\n",
    "        from_client[\"sFn\"] = '03'\n",
    "        from_client[\"POO\"] = temp\n",
    "        return from_client\n",
    "            \n",
    "            \n",
    "# CA.verifyCertificate(ClientCert,CAPubKeyC )"
   ]
  },
  {
   "cell_type": "code",
   "execution_count": 173,
   "id": "d99893ca",
   "metadata": {},
   "outputs": [],
   "source": [
    "timeanalysis= pd.DataFrame([])"
   ]
  },
  {
   "cell_type": "code",
   "execution_count": 275,
   "id": "98820bfb",
   "metadata": {},
   "outputs": [
    {
     "name": "stdout",
     "output_type": "stream",
     "text": [
      "Authentication using PKI Certificate Exchange Supported \n",
      "01\n",
      "Unidirectional Authetication\n",
      "Authentication Completed\n"
     ]
    },
    {
     "name": "stderr",
     "output_type": "stream",
     "text": [
      "C:\\Users\\A477967\\AppData\\Local\\Temp/ipykernel_19864/456224696.py:47: FutureWarning: The frame.append method is deprecated and will be removed from pandas in a future version. Use pandas.concat instead.\n",
      "  timeanalysis = timeanalysis.append([elapsetime])\n"
     ]
    },
    {
     "ename": "OSError",
     "evalue": "[WinError 10038] An operation was attempted on something that is not a socket",
     "output_type": "error",
     "traceback": [
      "\u001b[1;31m---------------------------------------------------------------------------\u001b[0m",
      "\u001b[1;31mOSError\u001b[0m                                   Traceback (most recent call last)",
      "\u001b[1;32m~\\AppData\\Local\\Temp/ipykernel_19864/456224696.py\u001b[0m in \u001b[0;36m<module>\u001b[1;34m\u001b[0m\n\u001b[0;32m     12\u001b[0m     \u001b[0mfrom_client\u001b[0m \u001b[1;33m=\u001b[0m \u001b[1;33m{\u001b[0m\u001b[1;33m}\u001b[0m\u001b[1;33m\u001b[0m\u001b[1;33m\u001b[0m\u001b[0m\n\u001b[0;32m     13\u001b[0m     \u001b[0mdata\u001b[0m \u001b[1;33m=\u001b[0m \u001b[0mpickle\u001b[0m\u001b[1;33m.\u001b[0m\u001b[0mdumps\u001b[0m\u001b[1;33m(\u001b[0m\u001b[0mreqFrame\u001b[0m\u001b[1;33m)\u001b[0m\u001b[1;33m\u001b[0m\u001b[1;33m\u001b[0m\u001b[0m\n\u001b[1;32m---> 14\u001b[1;33m     \u001b[0mclient\u001b[0m\u001b[1;33m.\u001b[0m\u001b[0msend\u001b[0m\u001b[1;33m(\u001b[0m\u001b[0mdata\u001b[0m\u001b[1;33m)\u001b[0m\u001b[1;33m\u001b[0m\u001b[1;33m\u001b[0m\u001b[0m\n\u001b[0m\u001b[0;32m     15\u001b[0m     \u001b[0mdata\u001b[0m \u001b[1;33m=\u001b[0m \u001b[0mclient\u001b[0m\u001b[1;33m.\u001b[0m\u001b[0mrecv\u001b[0m\u001b[1;33m(\u001b[0m\u001b[1;36m4096\u001b[0m\u001b[1;33m)\u001b[0m\u001b[1;33m\u001b[0m\u001b[1;33m\u001b[0m\u001b[0m\n\u001b[0;32m     16\u001b[0m     \u001b[0mChaCli\u001b[0m\u001b[1;33m=\u001b[0m\u001b[1;34m''\u001b[0m\u001b[1;33m\u001b[0m\u001b[1;33m\u001b[0m\u001b[0m\n",
      "\u001b[1;31mOSError\u001b[0m: [WinError 10038] An operation was attempted on something that is not a socket"
     ]
    }
   ],
   "source": [
    "import datetime\n",
    "import socket\n",
    "import pickle\n",
    "import pandas as pd\n",
    "from datetime import datetime\n",
    "\n",
    "client = socket.socket(socket.AF_INET, socket.SOCK_STREAM)\n",
    "client.connect((\"127.0.0.1\", 9090))\n",
    "for _ in range(0,100): \n",
    "    start = datetime.now()\n",
    "    reqFrame = {\"Fn\":'29','sFn': '08'}\n",
    "    from_client = {}\n",
    "    data = pickle.dumps(reqFrame)\n",
    "    client.send(data)\n",
    "    data = client.recv(4096)\n",
    "    ChaCli=''\n",
    "    from_client = pickle.loads(data)\n",
    "    if from_client[\"Cnf\"] == '02' and from_client[\"Fn\"] == '69':\n",
    "        tempData = Req(from_client)\n",
    "        from_client = tempData\n",
    "        if from_client['sFn'] == '02':\n",
    "            ChaCli = from_client['CCli']\n",
    "        data = pickle.dumps(from_client)\n",
    "        client.send(data)\n",
    "        data = client.recv(4096)\n",
    "        from_client = pickle.loads(data)\n",
    "        \n",
    "    if from_client[\"Cnf\"] == '11' and from_client[\"Fn\"] == '69':\n",
    "        if from_client['sFn'] == '02':\n",
    "            RecCert = from_client['ECer']\n",
    "            if CA.verifyCertificate(RecCert,CAPubKeyC ):\n",
    "                print(\"Server Certificate Verified\")\n",
    "                if CA.verifySign(ChaCli,from_client[\"POOC\"],RecCert.subjectPublicKey):\n",
    "                    print(\"Certificate Verified with proof of Ownership\")\n",
    "    #     temp = CA.sign(from_client[\"CS\"],clientPriKey)\n",
    "        tempData = Req(from_client)\n",
    "        from_client = tempData\n",
    "        data = pickle.dumps(from_client)\n",
    "        client.send(data)\n",
    "        data = client.recv(4096)\n",
    "        from_client = pickle.loads(data)\n",
    "    if from_client['Cnf'] == \"12\" and from_client[\"Fn\"] == '69':\n",
    "        print(\"Authentication Completed\")\n",
    "    client.close()\n",
    "    end = datetime.now()\n",
    "    elapsetime = (end - start).total_seconds()\n",
    "    timeanalysis = timeanalysis.append([elapsetime])"
   ]
  },
  {
   "cell_type": "code",
   "execution_count": 276,
   "id": "b18267fc",
   "metadata": {},
   "outputs": [
    {
     "name": "stdout",
     "output_type": "stream",
     "text": [
      "maximum number of iteration 0.007002\n",
      "minimum number of iteration 0.002996\n",
      "Average number of iteration 0.00475777\n"
     ]
    }
   ],
   "source": [
    "print('maximum number of iteration',timeanalysis.values.max())\n",
    "print('minimum number of iteration',timeanalysis.values.min()) \n",
    "print('Average number of iteration', timeanalysis.values.mean())"
   ]
  },
  {
   "cell_type": "code",
   "execution_count": 287,
   "id": "46a6d6c5",
   "metadata": {},
   "outputs": [],
   "source": [
    "timeanalysis= pd.DataFrame([])"
   ]
  },
  {
   "cell_type": "code",
   "execution_count": 379,
   "id": "f9003ac5",
   "metadata": {},
   "outputs": [
    {
     "ename": "ConnectionRefusedError",
     "evalue": "[WinError 10061] No connection could be made because the target machine actively refused it",
     "output_type": "error",
     "traceback": [
      "\u001b[1;31m---------------------------------------------------------------------------\u001b[0m",
      "\u001b[1;31mConnectionRefusedError\u001b[0m                    Traceback (most recent call last)",
      "\u001b[1;32m~\\AppData\\Local\\Temp/ipykernel_19864/456224696.py\u001b[0m in \u001b[0;36m<module>\u001b[1;34m\u001b[0m\n\u001b[0;32m      6\u001b[0m \u001b[1;33m\u001b[0m\u001b[0m\n\u001b[0;32m      7\u001b[0m \u001b[0mclient\u001b[0m \u001b[1;33m=\u001b[0m \u001b[0msocket\u001b[0m\u001b[1;33m.\u001b[0m\u001b[0msocket\u001b[0m\u001b[1;33m(\u001b[0m\u001b[0msocket\u001b[0m\u001b[1;33m.\u001b[0m\u001b[0mAF_INET\u001b[0m\u001b[1;33m,\u001b[0m \u001b[0msocket\u001b[0m\u001b[1;33m.\u001b[0m\u001b[0mSOCK_STREAM\u001b[0m\u001b[1;33m)\u001b[0m\u001b[1;33m\u001b[0m\u001b[1;33m\u001b[0m\u001b[0m\n\u001b[1;32m----> 8\u001b[1;33m \u001b[0mclient\u001b[0m\u001b[1;33m.\u001b[0m\u001b[0mconnect\u001b[0m\u001b[1;33m(\u001b[0m\u001b[1;33m(\u001b[0m\u001b[1;34m\"127.0.0.1\"\u001b[0m\u001b[1;33m,\u001b[0m \u001b[1;36m9090\u001b[0m\u001b[1;33m)\u001b[0m\u001b[1;33m)\u001b[0m\u001b[1;33m\u001b[0m\u001b[1;33m\u001b[0m\u001b[0m\n\u001b[0m\u001b[0;32m      9\u001b[0m \u001b[1;32mfor\u001b[0m \u001b[0m_\u001b[0m \u001b[1;32min\u001b[0m \u001b[0mrange\u001b[0m\u001b[1;33m(\u001b[0m\u001b[1;36m0\u001b[0m\u001b[1;33m,\u001b[0m\u001b[1;36m100\u001b[0m\u001b[1;33m)\u001b[0m\u001b[1;33m:\u001b[0m\u001b[1;33m\u001b[0m\u001b[1;33m\u001b[0m\u001b[0m\n\u001b[0;32m     10\u001b[0m     \u001b[0mstart\u001b[0m \u001b[1;33m=\u001b[0m \u001b[0mdatetime\u001b[0m\u001b[1;33m.\u001b[0m\u001b[0mnow\u001b[0m\u001b[1;33m(\u001b[0m\u001b[1;33m)\u001b[0m\u001b[1;33m\u001b[0m\u001b[1;33m\u001b[0m\u001b[0m\n",
      "\u001b[1;31mConnectionRefusedError\u001b[0m: [WinError 10061] No connection could be made because the target machine actively refused it"
     ]
    }
   ],
   "source": [
    "import datetime\n",
    "import socket\n",
    "import pickle\n",
    "import pandas as pd\n",
    "from datetime import datetime\n",
    "\n",
    "client = socket.socket(socket.AF_INET, socket.SOCK_STREAM)\n",
    "client.connect((\"127.0.0.1\", 9090))\n",
    "for _ in range(0,100): \n",
    "    start = datetime.now()\n",
    "    reqFrame = {\"Fn\":'29','sFn': '08'}\n",
    "    from_client = {}\n",
    "    data = pickle.dumps(reqFrame)\n",
    "    client.send(data)\n",
    "    data = client.recv(4096)\n",
    "    ChaCli=''\n",
    "    from_client = pickle.loads(data)\n",
    "    if from_client[\"Cnf\"] == '02' and from_client[\"Fn\"] == '69':\n",
    "        tempData = Req(from_client)\n",
    "        from_client = tempData\n",
    "        if from_client['sFn'] == '02':\n",
    "            ChaCli = from_client['CCli']\n",
    "        data = pickle.dumps(from_client)\n",
    "        client.send(data)\n",
    "        data = client.recv(4096)\n",
    "        from_client = pickle.loads(data)\n",
    "        \n",
    "    if from_client[\"Cnf\"] == '11' and from_client[\"Fn\"] == '69':\n",
    "        if from_client['sFn'] == '02':\n",
    "            RecCert = from_client['ECer']\n",
    "            if CA.verifyCertificate(RecCert,CAPubKeyC ):\n",
    "                print(\"Server Certificate Verified\")\n",
    "                if CA.verifySign(ChaCli,from_client[\"POOC\"],RecCert.subjectPublicKey):\n",
    "                    print(\"Certificate Verified with proof of Ownership\")\n",
    "    #     temp = CA.sign(from_client[\"CS\"],clientPriKey)\n",
    "        tempData = Req(from_client)\n",
    "        from_client = tempData\n",
    "        data = pickle.dumps(from_client)\n",
    "        client.send(data)\n",
    "        data = client.recv(4096)\n",
    "        from_client = pickle.loads(data)\n",
    "    if from_client['Cnf'] == \"12\" and from_client[\"Fn\"] == '69':\n",
    "        print(\"Authentication Completed\")\n",
    "    client.close()\n",
    "    end = datetime.now()\n",
    "    elapsetime = (end - start).total_seconds()\n",
    "    timeanalysis = timeanalysis.append([elapsetime])"
   ]
  },
  {
   "cell_type": "code",
   "execution_count": 380,
   "id": "3da6b8e1",
   "metadata": {},
   "outputs": [
    {
     "name": "stdout",
     "output_type": "stream",
     "text": [
      "maximum number of iteration 0.009045\n",
      "minimum number of iteration 0.001676\n",
      "Average number of iteration 0.005920549450549452\n"
     ]
    }
   ],
   "source": [
    "print('maximum number of iteration',timeanalysis.values.max())\n",
    "print('minimum number of iteration',timeanalysis.values.min()) \n",
    "print('Average number of iteration', timeanalysis.values.mean())"
   ]
  },
  {
   "cell_type": "code",
   "execution_count": null,
   "id": "3fcb5c21",
   "metadata": {},
   "outputs": [],
   "source": []
  }
 ],
 "metadata": {
  "kernelspec": {
   "display_name": "Python 3 (ipykernel)",
   "language": "python",
   "name": "python3"
  },
  "language_info": {
   "codemirror_mode": {
    "name": "ipython",
    "version": 3
   },
   "file_extension": ".py",
   "mimetype": "text/x-python",
   "name": "python",
   "nbconvert_exporter": "python",
   "pygments_lexer": "ipython3",
   "version": "3.9.7"
  }
 },
 "nbformat": 4,
 "nbformat_minor": 5
}
